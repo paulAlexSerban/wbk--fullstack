{
 "cells": [
  {
   "cell_type": "code",
   "execution_count": 15,
   "metadata": {},
   "outputs": [],
   "source": [
    "from api_methods import *\n",
    "\n",
    "BASE_URL = \"http://localhost:3000/api\"\n",
    "API_ENDPOINT = f\"{BASE_URL}\""
   ]
  },
  {
   "cell_type": "code",
   "execution_count": 16,
   "metadata": {},
   "outputs": [
    {
     "name": "stdout",
     "output_type": "stream",
     "text": [
      "Status Code: 200\n",
      "Response JSON:\n"
     ]
    },
    {
     "data": {
      "text/plain": [
       "{'method': 'GET', 'message': 'Hello, world!'}"
      ]
     },
     "execution_count": 16,
     "metadata": {},
     "output_type": "execute_result"
    }
   ],
   "source": [
    "# GET root\n",
    "get_data(f\"{BASE_URL}/hello\")  # Get all posts"
   ]
  },
  {
   "cell_type": "code",
   "execution_count": 17,
   "metadata": {},
   "outputs": [
    {
     "name": "stdout",
     "output_type": "stream",
     "text": [
      "Status Code: 200\n",
      "Response JSON:\n"
     ]
    },
    {
     "data": {
      "text/plain": [
       "{'method': 'POST', 'message': 'Hello, Node.js w. Express!'}"
      ]
     },
     "execution_count": 17,
     "metadata": {},
     "output_type": "execute_result"
    }
   ],
   "source": [
    "# POST root\n",
    "create_data(f\"{BASE_URL}/hello\", {\"name\": \"Node.js w. Express\"})  # Create a post"
   ]
  },
  {
   "cell_type": "code",
   "execution_count": 18,
   "metadata": {},
   "outputs": [
    {
     "name": "stdout",
     "output_type": "stream",
     "text": [
      "Status Code: 200\n",
      "Response JSON:\n"
     ]
    },
    {
     "data": {
      "text/plain": [
       "{'method': 'PUT', 'message': 'Hello, Node.js w. Express!', 'id': '1'}"
      ]
     },
     "execution_count": 18,
     "metadata": {},
     "output_type": "execute_result"
    }
   ],
   "source": [
    "# PUT root\n",
    "update_data(f\"{BASE_URL}/hello/1\", {\"name\": \"Node.js w. Express\"})  # Update a post"
   ]
  },
  {
   "cell_type": "code",
   "execution_count": 19,
   "metadata": {},
   "outputs": [
    {
     "name": "stdout",
     "output_type": "stream",
     "text": [
      "Status Code: 200\n",
      "Response JSON:\n"
     ]
    },
    {
     "data": {
      "text/plain": [
       "{'method': 'PATCH', 'message': 'Hello, Node.js w. Express!', 'id': '1'}"
      ]
     },
     "execution_count": 19,
     "metadata": {},
     "output_type": "execute_result"
    }
   ],
   "source": [
    "# PATCH root\n",
    "patch_data(f\"{BASE_URL}/hello/1\", {\"name\": \"Node.js w. Express\"})  # Update a post"
   ]
  },
  {
   "cell_type": "code",
   "execution_count": 20,
   "metadata": {},
   "outputs": [
    {
     "name": "stdout",
     "output_type": "stream",
     "text": [
      "Status Code: 200\n",
      "Response JSON:\n"
     ]
    },
    {
     "data": {
      "text/plain": [
       "{'method': 'DELETE', 'id': '1'}"
      ]
     },
     "execution_count": 20,
     "metadata": {},
     "output_type": "execute_result"
    }
   ],
   "source": [
    "# DELETE root\n",
    "delete_data(f\"{BASE_URL}/hello/1\")  # Delete a post"
   ]
  }
 ],
 "metadata": {
  "kernelspec": {
   "display_name": ".venv",
   "language": "python",
   "name": "python3"
  },
  "language_info": {
   "codemirror_mode": {
    "name": "ipython",
    "version": 3
   },
   "file_extension": ".py",
   "mimetype": "text/x-python",
   "name": "python",
   "nbconvert_exporter": "python",
   "pygments_lexer": "ipython3",
   "version": "3.13.2"
  }
 },
 "nbformat": 4,
 "nbformat_minor": 2
}
