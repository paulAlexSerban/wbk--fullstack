{
 "cells": [
  {
   "cell_type": "code",
   "execution_count": null,
   "metadata": {},
   "outputs": [],
   "source": [
    "from api_methods import *\n",
    "\n",
    "BASE_URL = \"http://localhost:3000/api\"\n",
    "API_ENDPOINT = f\"{BASE_URL}\""
   ]
  },
  {
   "cell_type": "code",
   "execution_count": 3,
   "metadata": {},
   "outputs": [
    {
     "name": "stdout",
     "output_type": "stream",
     "text": [
      "Status Code: 200\n",
      "Response JSON:\n"
     ]
    },
    {
     "data": {
      "text/plain": [
       "{'method': 'GET', 'message': 'Hello, worlds!'}"
      ]
     },
     "execution_count": 3,
     "metadata": {},
     "output_type": "execute_result"
    }
   ],
   "source": [
    "# GET root\n",
    "get_data(f\"{BASE_URL}/hello\")  # Get all posts"
   ]
  },
  {
   "cell_type": "code",
   "execution_count": 4,
   "metadata": {},
   "outputs": [
    {
     "name": "stdout",
     "output_type": "stream",
     "text": [
      "Status Code: 200\n",
      "Response JSON:\n"
     ]
    },
    {
     "data": {
      "text/plain": [
       "{'success': True,\n",
       " 'method': 'POST',\n",
       " 'message': 'Hello, Node.js w. Express! Created',\n",
       " 'data': {'name': 'Node.js w. Express',\n",
       "  '_id': '67d1bebdb82b83548987587c',\n",
       "  'createdAt': '2025-03-12T17:05:01.303Z',\n",
       "  'updatedAt': '2025-03-12T17:05:01.303Z',\n",
       "  'slug': 'node.js-w.-express',\n",
       "  '__v': 0}}"
      ]
     },
     "execution_count": 4,
     "metadata": {},
     "output_type": "execute_result"
    }
   ],
   "source": [
    "# POST root\n",
    "create_data(f\"{BASE_URL}/hello\", {\"name\": \"Node.js w. Express\"})  # Create a post"
   ]
  },
  {
   "cell_type": "code",
   "execution_count": null,
   "metadata": {},
   "outputs": [],
   "source": [
    "# PUT root\n",
    "update_data(f\"{BASE_URL}/hello/1\", {\"name\": \"Node.js w. Express\"})  # Update a post"
   ]
  },
  {
   "cell_type": "code",
   "execution_count": null,
   "metadata": {},
   "outputs": [],
   "source": [
    "# PATCH root\n",
    "patch_data(f\"{BASE_URL}/hello/1\", {\"name\": \"Node.js w. Express\"})  # Update a post"
   ]
  },
  {
   "cell_type": "code",
   "execution_count": null,
   "metadata": {},
   "outputs": [],
   "source": [
    "# DELETE root\n",
    "delete_data(f\"{BASE_URL}/hello/1\")  # Delete a post"
   ]
  }
 ],
 "metadata": {
  "kernelspec": {
   "display_name": ".venv",
   "language": "python",
   "name": "python3"
  },
  "language_info": {
   "codemirror_mode": {
    "name": "ipython",
    "version": 3
   },
   "file_extension": ".py",
   "mimetype": "text/x-python",
   "name": "python",
   "nbconvert_exporter": "python",
   "pygments_lexer": "ipython3",
   "version": "3.13.2"
  }
 },
 "nbformat": 4,
 "nbformat_minor": 2
}
