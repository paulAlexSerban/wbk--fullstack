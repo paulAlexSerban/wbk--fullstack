{
 "cells": [
  {
   "cell_type": "code",
   "execution_count": null,
   "metadata": {},
   "outputs": [],
   "source": [
    "import os, boto3, time"
   ]
  },
  {
   "cell_type": "code",
   "execution_count": null,
   "metadata": {},
   "outputs": [],
   "source": [
    "\n",
    "# Retrieve the AWS credentials and region from environment variables\n",
    "aws_access_key_id = os.getenv(\"AWS_ACCESS_KEY_ID\")\n",
    "aws_secret_access_key = os.getenv(\"AWS_SECRET_ACCESS_KEY\")\n",
    "region_name = os.getenv(\"AWS_DEFAULT_REGION\")\n",
    "region_name = 'us-west-q'\n",
    "\n",
    "print(f\"AWS Access Key ID: {aws_access_key_id}\")\n",
    "print(f\"AWS Secret Access Key: {aws_secret_access_key}\")\n",
    "print(f\"Region: {region_name}\")\n",
    "\n",
    "db_username = 'admin'\n",
    "db_password = 'password_r00t'\n",
    "db_subset_group = 'vpc-creation-n-interaction-study-rds-subnet-group'\n",
    "db_cluster_id = 'rds-management-cluster'"
   ]
  },
  {
   "cell_type": "code",
   "execution_count": null,
   "metadata": {},
   "outputs": [],
   "source": [
    "rds_client = boto3.client('rds')"
   ]
  },
  {
   "cell_type": "code",
   "execution_count": null,
   "metadata": {},
   "outputs": [],
   "source": [
    "# create the DB cluster\n",
    "\n",
    "try:\n",
    "    response = rds_client.describe_db_clusters(\n",
    "        DBClusterIdentifier=db_cluster_id,\n",
    "    )\n",
    "    print(f\"DB Cluster {db_cluster_id} already exists, skipping creation\")\n",
    "except rds_client.exceptions.DBClusterNotFoundFault:\n",
    "    print(f\"Creating DB Cluster {db_cluster_id}\")\n",
    "    response = rds_client.create_db_cluster(\n",
    "        DBClusterIdentifier=db_cluster_id,\n",
    "        Engine=\"aurora-mysql\",\n",
    "        EngineVersion=\"5.7.mysql_aurora.2.11.1\",\n",
    "        MasterUsername=db_username,\n",
    "        MasterUserPassword=db_password,\n",
    "        DatabaseName=\"rds_management\",\n",
    "        DBSubnetGroupName=db_subset_group,\n",
    "        EngineMode=\"provisioned\"\n",
    "    )\n",
    "\n",
    "    print(f\"DB Cluster {db_cluster_id} created\")\n",
    "    \n",
    "    while True:\n",
    "        response = rds_client.describe_db_clusters(\n",
    "            DBClusterIdentifier=db_cluster_id,\n",
    "        )\n",
    "        status = response['DBClusters'][0]['Status']\n",
    "        print(f\"DB Cluster status: {status}\")\n",
    "        if status == 'available':\n",
    "            break\n",
    "        time.sleep(10)"
   ]
  },
  {
   "cell_type": "code",
   "execution_count": null,
   "metadata": {},
   "outputs": [],
   "source": [
    "# delete the DB cluster\n",
    "try:\n",
    "    response = rds_client.delete_db_cluster(\n",
    "        DBClusterIdentifier=db_cluster_id,\n",
    "        SkipFinalSnapshot=True\n",
    "    )\n",
    "    print(f\"DB Cluster {db_cluster_id} deleted\")\n",
    "except rds_client.exceptions.DBClusterNotFoundFault:\n",
    "    print(f\"DB Cluster {db_cluster_id} does not exist, skipping deletion\")\n",
    "    "
   ]
  }
 ],
 "metadata": {
  "kernelspec": {
   "display_name": ".venv",
   "language": "python",
   "name": "python3"
  },
  "language_info": {
   "codemirror_mode": {
    "name": "ipython",
    "version": 3
   },
   "file_extension": ".py",
   "mimetype": "text/x-python",
   "name": "python",
   "nbconvert_exporter": "python",
   "pygments_lexer": "ipython3",
   "version": "3.12.9"
  }
 },
 "nbformat": 4,
 "nbformat_minor": 2
}
