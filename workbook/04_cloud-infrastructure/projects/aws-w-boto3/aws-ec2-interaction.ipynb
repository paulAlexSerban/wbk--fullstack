{
 "cells": [
  {
   "cell_type": "markdown",
   "metadata": {},
   "source": [
    "# AWS EC2 Interactions w. Boto3 & Python"
   ]
  },
  {
   "cell_type": "code",
   "execution_count": null,
   "metadata": {},
   "outputs": [],
   "source": [
    "import os, boto3"
   ]
  },
  {
   "cell_type": "code",
   "execution_count": null,
   "metadata": {},
   "outputs": [],
   "source": [
    "# Retrieve the AWS credentials and region from environment variables\n",
    "aws_access_key_id = os.getenv(\"AWS_ACCESS_KEY_ID\")\n",
    "aws_secret_access_key = os.getenv(\"AWS_SECRET_ACCESS_KEY\")\n",
    "region_name = os.getenv(\"AWS_DEFAULT_REGION\")\n",
    "\n",
    "print(f\"AWS Access Key ID: {aws_access_key_id}\")\n",
    "print(f\"AWS Secret Access Key: {aws_secret_access_key}\")\n",
    "print(f\"Region: {region_name}\")\n",
    "\n",
    "ec2_instance_name = 'aws-ec2-interaction'"
   ]
  },
  {
   "cell_type": "code",
   "execution_count": null,
   "metadata": {},
   "outputs": [],
   "source": [
    "ec2 = boto3.resource(\n",
    "    \"ec2\",\n",
    "    region_name=region_name,\n",
    "    aws_access_key_id=aws_access_key_id,\n",
    "    aws_secret_access_key=aws_secret_access_key,\n",
    ")"
   ]
  },
  {
   "cell_type": "code",
   "execution_count": null,
   "metadata": {},
   "outputs": [],
   "source": [
    "# store instance id\n",
    "instance_id = None"
   ]
  },
  {
   "cell_type": "code",
   "execution_count": null,
   "metadata": {},
   "outputs": [],
   "source": [
    "# check if instances exists\n",
    "instances = ec2.instances.all()\n",
    "instance_exists = False\n",
    "\n",
    "for instance in instances:\n",
    "    if instance.tags is not None:\n",
    "        for tag in instance.tags:\n",
    "            if tag[\"Key\"] == \"Name\" and tag[\"Value\"] == ec2_instance_name:\n",
    "                instance_exists = True\n",
    "                instance_id = instance.id\n",
    "                print(f\"An instance named {ec2_instance_name} with id {instance_id} already exists.\")\n",
    "                break\n",
    "            \n",
    "    if instance_exists:\n",
    "        break"
   ]
  },
  {
   "cell_type": "code",
   "execution_count": null,
   "metadata": {},
   "outputs": [],
   "source": [
    "# launch a new EC2 instance if it has not already been created\n",
    "if not instance_exists:\n",
    "    new_instance = ec2.create_instances(\n",
    "        ImageId=\"ami-0b74f796d330ab49c\",  # replace with a valid AMI_ID\n",
    "        MinCount=1,\n",
    "        MaxCount=1,\n",
    "        InstanceType=\"t2.micro\",\n",
    "        KeyName=\"eu-central-aws-key-pair\",\n",
    "        TagSpecifications=[\n",
    "            {\n",
    "                \"ResourceType\": \"instance\",\n",
    "                \"Tags\": [{\"Key\": \"Name\", \"Value\": ec2_instance_name}],\n",
    "            }\n",
    "        ],\n",
    "    )\n",
    "    instance_id = new_instance[0].id\n",
    "    print(f\"Instance named {ec2_instance_name} with id {instance_id} has been created.\")"
   ]
  },
  {
   "cell_type": "code",
   "execution_count": null,
   "metadata": {},
   "outputs": [],
   "source": [
    "# stop the instance\n",
    "ec2.Instance(instance_id).stop()\n",
    "print(f\"Instance with id {instance_id} has been stopped.\")\n",
    "\n",
    "# check if the instance is stopped and retry until it is stopped\n",
    "while True:\n",
    "    instance = ec2.Instance(instance_id)\n",
    "    if instance.state[\"Name\"] == \"stopped\":\n",
    "        print(f\"Instance with id {instance_id} is stopped.\")\n",
    "        break"
   ]
  },
  {
   "cell_type": "code",
   "execution_count": null,
   "metadata": {},
   "outputs": [],
   "source": [
    "# check if instance exists and if it is stopped\n",
    "if instance_exists and instance.state[\"Name\"] == \"stopped\":\n",
    "    # start the instance\n",
    "    ec2.Instance(instance_id).start()\n",
    "    print(f\"Instance with id {instance_id} has been started.\")\n",
    "\n",
    "    # check if the instance is running and retry until it is running\n",
    "    while True:\n",
    "        instance = ec2.Instance(instance_id)\n",
    "        if instance.state[\"Name\"] == \"running\":\n",
    "            print(f\"Instance with id {instance_id} is running.\")\n",
    "            break\n",
    "else:\n",
    "    print(f\"Instance with id {instance_id} does not exist or is not stopped.\")"
   ]
  },
  {
   "cell_type": "code",
   "execution_count": null,
   "metadata": {},
   "outputs": [],
   "source": [
    "# check if instance exists and terminate it\n",
    "if instance_exists:\n",
    "    ec2.Instance(instance_id).terminate()\n",
    "    print(f\"Instance with id {instance_id} has been terminated.\")\n",
    "else:\n",
    "    print(f\"Instance with id {instance_id} does not exist.\")"
   ]
  }
 ],
 "metadata": {
  "kernelspec": {
   "display_name": ".venv",
   "language": "python",
   "name": "python3"
  },
  "language_info": {
   "codemirror_mode": {
    "name": "ipython",
    "version": 3
   },
   "file_extension": ".py",
   "mimetype": "text/x-python",
   "name": "python",
   "nbconvert_exporter": "python",
   "pygments_lexer": "ipython3",
   "version": "3.12.9"
  }
 },
 "nbformat": 4,
 "nbformat_minor": 2
}
