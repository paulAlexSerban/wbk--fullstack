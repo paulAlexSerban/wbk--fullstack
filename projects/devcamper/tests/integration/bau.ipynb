{
 "cells": [
  {
   "cell_type": "code",
   "execution_count": null,
   "metadata": {},
   "outputs": [],
   "source": [
    "from api_methods import *\n",
    "\n",
    "ENV = \"dev\" # dev or prod - change this to prod when deploying\n",
    "BASE_URL = \"http://localhost:3000\"\n",
    "API_ENDPOINT = f\"{BASE_URL}/api/v1\"\n",
    "\n",
    "if ENV != \"dev\":\n",
    "    BASE_URL = \"https://remote.base.url\"\n",
    "    API_ENDPOINT = f\"{BASE_URL}/api/v1\"\n"
   ]
  },
  {
   "cell_type": "markdown",
   "metadata": {},
   "source": [
    "# `/bootcamps`"
   ]
  },
  {
   "cell_type": "code",
   "execution_count": 48,
   "metadata": {},
   "outputs": [
    {
     "name": "stdout",
     "output_type": "stream",
     "text": [
      "Status Code: 200\n",
      "Response JSON:\n"
     ]
    },
    {
     "data": {
      "text/plain": [
       "{'method': 'GET', 'message': 'Show all bootcamps!'}"
      ]
     },
     "execution_count": 48,
     "metadata": {},
     "output_type": "execute_result"
    }
   ],
   "source": [
    "# GET root\n",
    "get_data(f\"{API_ENDPOINT}/bootcamps\")  # Get all posts"
   ]
  },
  {
   "cell_type": "code",
   "execution_count": 49,
   "metadata": {},
   "outputs": [
    {
     "name": "stdout",
     "output_type": "stream",
     "text": [
      "Status Code: 201\n",
      "Response JSON:\n"
     ]
    },
    {
     "data": {
      "text/plain": [
       "{'method': 'POST', 'message': 'Create new bootcamp, TEST Bootcamp!'}"
      ]
     },
     "execution_count": 49,
     "metadata": {},
     "output_type": "execute_result"
    }
   ],
   "source": [
    "# POST create new bootcamp\n",
    "create_data(f\"{API_ENDPOINT}/bootcamps\", {\"name\": \"TEST Bootcamp\"})"
   ]
  },
  {
   "cell_type": "markdown",
   "metadata": {},
   "source": [
    "# `/bootcamp`"
   ]
  },
  {
   "cell_type": "code",
   "execution_count": 50,
   "metadata": {},
   "outputs": [
    {
     "name": "stdout",
     "output_type": "stream",
     "text": [
      "Status Code: 200\n",
      "Response JSON:\n"
     ]
    },
    {
     "data": {
      "text/plain": [
       "{'method': 'GET', 'message': 'Get bootcamp by id!', 'id': '1'}"
      ]
     },
     "execution_count": 50,
     "metadata": {},
     "output_type": "execute_result"
    }
   ],
   "source": [
    "get_data(f\"{API_ENDPOINT}/bootcamp/1\")  # Get all posts"
   ]
  },
  {
   "cell_type": "code",
   "execution_count": 51,
   "metadata": {},
   "outputs": [
    {
     "name": "stdout",
     "output_type": "stream",
     "text": [
      "Status Code: 200\n",
      "Response JSON:\n"
     ]
    },
    {
     "data": {
      "text/plain": [
       "{'method': 'PUT',\n",
       " 'message': 'Update bootcamp, TEST Bootcamp Updated!',\n",
       " 'id': '1'}"
      ]
     },
     "execution_count": 51,
     "metadata": {},
     "output_type": "execute_result"
    }
   ],
   "source": [
    "update_data(f\"{API_ENDPOINT}/bootcamp/1\", {\"name\": \"TEST Bootcamp Updated\"})"
   ]
  },
  {
   "cell_type": "code",
   "execution_count": 52,
   "metadata": {},
   "outputs": [
    {
     "name": "stdout",
     "output_type": "stream",
     "text": [
      "Status Code: 200\n",
      "Response JSON:\n"
     ]
    },
    {
     "data": {
      "text/plain": [
       "{'method': 'PATCH',\n",
       " 'message': 'Patch bootcamp, TEST Bootcamp Patched!',\n",
       " 'id': '1'}"
      ]
     },
     "execution_count": 52,
     "metadata": {},
     "output_type": "execute_result"
    }
   ],
   "source": [
    "patch_data(f\"{API_ENDPOINT}/bootcamp/1\", {\"name\": \"TEST Bootcamp Patched\"})"
   ]
  },
  {
   "cell_type": "code",
   "execution_count": 53,
   "metadata": {},
   "outputs": [
    {
     "name": "stdout",
     "output_type": "stream",
     "text": [
      "Status Code: 200\n",
      "Response JSON:\n"
     ]
    },
    {
     "data": {
      "text/plain": [
       "{'method': 'DELETE', 'message': 'Delete bootcamp!', 'id': '1'}"
      ]
     },
     "execution_count": 53,
     "metadata": {},
     "output_type": "execute_result"
    }
   ],
   "source": [
    "delete_data(f\"{API_ENDPOINT}/bootcamp/1\")"
   ]
  }
 ],
 "metadata": {
  "kernelspec": {
   "display_name": ".venv",
   "language": "python",
   "name": "python3"
  },
  "language_info": {
   "codemirror_mode": {
    "name": "ipython",
    "version": 3
   },
   "file_extension": ".py",
   "mimetype": "text/x-python",
   "name": "python",
   "nbconvert_exporter": "python",
   "pygments_lexer": "ipython3",
   "version": "3.13.2"
  }
 },
 "nbformat": 4,
 "nbformat_minor": 2
}
