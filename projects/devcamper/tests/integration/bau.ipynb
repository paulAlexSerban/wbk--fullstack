{
 "cells": [
  {
   "cell_type": "code",
   "execution_count": null,
   "metadata": {},
   "outputs": [],
   "source": [
    "from api_methods import *\n",
    "\n",
    "ENV = \"dev\" # dev or prod - change this to prod when deploying\n",
    "BASE_URL = \"http://localhost:3000\"\n",
    "API_ENDPOINT = f\"{BASE_URL}/api/v1\"\n",
    "\n",
    "if ENV != \"dev\":\n",
    "    BASE_URL = \"https://remote.base.url\"\n",
    "    API_ENDPOINT = f\"{BASE_URL}/api/v1\"\n"
   ]
  },
  {
   "cell_type": "markdown",
   "metadata": {},
   "source": [
    "# `/bootcamps`"
   ]
  },
  {
   "cell_type": "code",
   "execution_count": null,
   "metadata": {},
   "outputs": [],
   "source": [
    "# GET root\n",
    "get_data(f\"{API_ENDPOINT}/bootcamps\")  # Get all posts"
   ]
  },
  {
   "cell_type": "code",
   "execution_count": null,
   "metadata": {},
   "outputs": [],
   "source": [
    "# POST create new bootcamp\n",
    "create_data(f\"{API_ENDPOINT}/bootcamps\", {\"name\": \"TEST Bootcamp\"})"
   ]
  },
  {
   "cell_type": "markdown",
   "metadata": {},
   "source": [
    "# `/bootcamp`"
   ]
  },
  {
   "cell_type": "code",
   "execution_count": null,
   "metadata": {},
   "outputs": [],
   "source": [
    "get_data(f\"{API_ENDPOINT}/bootcamp/1\")  # Get all posts"
   ]
  },
  {
   "cell_type": "code",
   "execution_count": null,
   "metadata": {},
   "outputs": [],
   "source": [
    "update_data(f\"{API_ENDPOINT}/bootcamp/1\", {\"name\": \"TEST Bootcamp Updated\"})"
   ]
  },
  {
   "cell_type": "code",
   "execution_count": null,
   "metadata": {},
   "outputs": [],
   "source": [
    "patch_data(f\"{API_ENDPOINT}/bootcamp/1\", {\"name\": \"TEST Bootcamp Patched\"})"
   ]
  },
  {
   "cell_type": "code",
   "execution_count": null,
   "metadata": {},
   "outputs": [],
   "source": [
    "delete_data(f\"{API_ENDPOINT}/bootcamp/1\")"
   ]
  }
 ],
 "metadata": {
  "kernelspec": {
   "display_name": ".venv",
   "language": "python",
   "name": "python3"
  },
  "language_info": {
   "codemirror_mode": {
    "name": "ipython",
    "version": 3
   },
   "file_extension": ".py",
   "mimetype": "text/x-python",
   "name": "python",
   "nbconvert_exporter": "python",
   "pygments_lexer": "ipython3",
   "version": "3.12.9"
  }
 },
 "nbformat": 4,
 "nbformat_minor": 2
}
