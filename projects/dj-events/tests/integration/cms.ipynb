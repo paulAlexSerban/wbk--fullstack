{
 "cells": [
  {
   "cell_type": "code",
   "execution_count": 19,
   "metadata": {},
   "outputs": [],
   "source": [
    "from api_methods import *\n",
    "\n",
    "BASE_URL = \"http://localhost:3000\""
   ]
  },
  {
   "cell_type": "markdown",
   "metadata": {},
   "source": [
    "# `/cms`"
   ]
  },
  {
   "cell_type": "code",
   "execution_count": 20,
   "metadata": {},
   "outputs": [
    {
     "name": "stdout",
     "output_type": "stream",
     "text": [
      "API Request Failed: 405 Client Error: Method Not Allowed for url: http://localhost:3000/cms/auth/local\n"
     ]
    }
   ],
   "source": [
    "create_data(\n",
    "    f\"{BASE_URL}/cms/auth/local\",\n",
    "    {\"identifier\": \"admin@example.com\", \"password\": \"Password@123\"},\n",
    ")"
   ]
  }
 ],
 "metadata": {
  "kernelspec": {
   "display_name": ".venv",
   "language": "python",
   "name": "python3"
  },
  "language_info": {
   "codemirror_mode": {
    "name": "ipython",
    "version": 3
   },
   "file_extension": ".py",
   "mimetype": "text/x-python",
   "name": "python",
   "nbconvert_exporter": "python",
   "pygments_lexer": "ipython3",
   "version": "3.12.9"
  }
 },
 "nbformat": 4,
 "nbformat_minor": 2
}
