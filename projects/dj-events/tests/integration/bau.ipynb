{
 "cells": [
  {
   "cell_type": "code",
   "execution_count": 13,
   "metadata": {},
   "outputs": [],
   "source": [
    "from api_methods import *\n",
    "\n",
    "ENV = \"dev\" # dev or prod - change this to prod when deploying\n",
    "BASE_URL = \"http://localhost:3000\"\n",
    "API_ENDPOINT = f\"{BASE_URL}/api\"\n",
    "\n",
    "if ENV != \"dev\":\n",
    "    BASE_URL = \"https://remote.base.url\"\n",
    "    API_ENDPOINT = f\"{BASE_URL}/api\"\n"
   ]
  },
  {
   "cell_type": "markdown",
   "metadata": {},
   "source": [
    "# `/healthcheck`"
   ]
  },
  {
   "cell_type": "code",
   "execution_count": 16,
   "metadata": {},
   "outputs": [
    {
     "name": "stdout",
     "output_type": "stream",
     "text": [
      "Status Code: 200\n",
      "Response JSON:\n"
     ]
    },
    {
     "data": {
      "text/plain": [
       "{'status': 'ok',\n",
       " 'version': '0.1.0',\n",
       " 'timestamp': '2025-04-13T13:00:23.285Z',\n",
       " 'message': 'Service is running'}"
      ]
     },
     "execution_count": 16,
     "metadata": {},
     "output_type": "execute_result"
    }
   ],
   "source": [
    "get_data(f\"{API_ENDPOINT}/healthcheck\")"
   ]
  },
  {
   "cell_type": "markdown",
   "metadata": {},
   "source": [
    "# `/events`"
   ]
  },
  {
   "cell_type": "code",
   "execution_count": 14,
   "metadata": {},
   "outputs": [
    {
     "name": "stdout",
     "output_type": "stream",
     "text": [
      "Status Code: 200\n",
      "Response JSON:\n"
     ]
    },
    {
     "data": {
      "text/plain": [
       "[{'id': '1',\n",
       "  'name': 'Throwback Thursdays with DJ Manny Duke',\n",
       "  'slug': 'throwback-thursdays-with-dj-manny-duke',\n",
       "  'venue': 'Horizon Club',\n",
       "  'address': '919 3rd Ave New York, New York(NY), 10022',\n",
       "  'performers': 'DJ Manny Duke',\n",
       "  'date': 'June 09, 2021',\n",
       "  'time': '10:00 PM EST',\n",
       "  'description': \"Featuring deep cuts, party anthems and remixes nostalgic songs from two of the best decades of music with the very best music from the 90's and 2000's\",\n",
       "  'image': '/dss/images/sample/event1.jpg'},\n",
       " {'id': '2',\n",
       "  'name': 'Boom Dance Festival Experience',\n",
       "  'slug': 'boom-dance-festival-experience',\n",
       "  'venue': 'Blackjacks',\n",
       "  'address': '966 Lexington Ave New York, New York(NY), 10021',\n",
       "  'performers': 'DJ LUCK & MC NEAT, NICKY BLACKMARKET, DJ NICKY BLACKMARKET, RATPACK',\n",
       "  'date': 'June 2, 2021',\n",
       "  'time': '8:00 PM EST',\n",
       "  'description': \"It's looking more and more like we will be seeing events return in the summer! To celebrate this we are arranging a festival experience to say good bye to lock down! We will also be celebrating the fact Zoom Dance is one year old!\",\n",
       "  'image': '/dss/images/sample/event2.jpg'},\n",
       " {'id': '3',\n",
       "  'name': 'Encore Night Boat Party',\n",
       "  'slug': 'encore-night-boat-party',\n",
       "  'venue': 'Encore',\n",
       "  'address': '675 Water St New York, New York(NY), 10002',\n",
       "  'performers': 'Bad Boy Bill',\n",
       "  'date': 'June 11, 2021',\n",
       "  'time': '7:00 PM EST',\n",
       "  'description': 'Who is ready to party? I mean in the middle of the water, a boat with good music and drinks. If thats you then you have made it to the right place.',\n",
       "  'image': '/dss/images/sample/event3.jpg'},\n",
       " {'id': '4',\n",
       "  'name': 'Jam Concert Live',\n",
       "  'slug': 'jam-concert-live',\n",
       "  'venue': 'Club Ozone',\n",
       "  'address': '70 W 115th St New York, New York(NY), 10026',\n",
       "  'performers': 'DJ RNB',\n",
       "  'date': 'June 20, 2021',\n",
       "  'time': '10:00 PM EST',\n",
       "  'description': 'The most diverse dj on the east coast, DJ RNB team up once again to bring you the next installment in the high energy, Jam Concert Live series!',\n",
       "  'image': '/dss/images/sample/event4.jpg'},\n",
       " {'id': '5',\n",
       "  'name': 'UnMute Rock Festival',\n",
       "  'slug': 'unmute-rock-festival',\n",
       "  'venue': 'Studio 54',\n",
       "  'address': '55 La Salle St #12K New York, New York(NY), 10027',\n",
       "  'performers': 'Big Wednesday, Black Pyre, Calling Apollo',\n",
       "  'date': 'June 30, 2021',\n",
       "  'time': '8:00 PM EST',\n",
       "  'description': 'With bands from around the UK ready to send the roof into orbit, get ready for the loudest Welsh festival: the inaugural UnMute 2021.',\n",
       "  'image': '/dss/images/sample/event5.jpg'},\n",
       " {'id': '6',\n",
       "  'name': 'Soul Kitchen Party',\n",
       "  'slug': 'soul-kitchen-party',\n",
       "  'venue': 'Onyx Club',\n",
       "  'address': '60 Gramercy Park N #2 New York, New York(NY), 10010',\n",
       "  'performers': 'A-Trak, Nightmares on Wax, Rakim, Jay Electronica',\n",
       "  'date': 'July 2, 2021',\n",
       "  'time': '8:00 PM EST',\n",
       "  'description': 'Dope party which features Hip Hop legends, emerging artists and world-class turntablists',\n",
       "  'image': '/dss/images/sample/event6.jpg'}]"
      ]
     },
     "execution_count": 14,
     "metadata": {},
     "output_type": "execute_result"
    }
   ],
   "source": [
    "# GET root\n",
    "get_data(f\"{API_ENDPOINT}/events\")  # Get all posts"
   ]
  },
  {
   "cell_type": "markdown",
   "metadata": {},
   "source": [
    "# `/events/:slug`"
   ]
  },
  {
   "cell_type": "code",
   "execution_count": 15,
   "metadata": {},
   "outputs": [
    {
     "name": "stdout",
     "output_type": "stream",
     "text": [
      "Status Code: 200\n",
      "Response JSON:\n"
     ]
    },
    {
     "data": {
      "text/plain": [
       "[{'id': '2',\n",
       "  'name': 'Boom Dance Festival Experience',\n",
       "  'slug': 'boom-dance-festival-experience',\n",
       "  'venue': 'Blackjacks',\n",
       "  'address': '966 Lexington Ave New York, New York(NY), 10021',\n",
       "  'performers': 'DJ LUCK & MC NEAT, NICKY BLACKMARKET, DJ NICKY BLACKMARKET, RATPACK',\n",
       "  'date': 'June 2, 2021',\n",
       "  'time': '8:00 PM EST',\n",
       "  'description': \"It's looking more and more like we will be seeing events return in the summer! To celebrate this we are arranging a festival experience to say good bye to lock down! We will also be celebrating the fact Zoom Dance is one year old!\",\n",
       "  'image': '/dss/images/sample/event2.jpg'}]"
      ]
     },
     "execution_count": 15,
     "metadata": {},
     "output_type": "execute_result"
    }
   ],
   "source": [
    "get_data(f\"{API_ENDPOINT}/events/boom-dance-festival-experience\")  # Get post with id 1"
   ]
  }
 ],
 "metadata": {
  "kernelspec": {
   "display_name": ".venv",
   "language": "python",
   "name": "python3"
  },
  "language_info": {
   "codemirror_mode": {
    "name": "ipython",
    "version": 3
   },
   "file_extension": ".py",
   "mimetype": "text/x-python",
   "name": "python",
   "nbconvert_exporter": "python",
   "pygments_lexer": "ipython3",
   "version": "3.12.9"
  }
 },
 "nbformat": 4,
 "nbformat_minor": 2
}
