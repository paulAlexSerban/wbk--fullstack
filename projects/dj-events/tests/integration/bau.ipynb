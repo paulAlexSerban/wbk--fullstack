{
 "cells": [
  {
   "cell_type": "code",
   "execution_count": null,
   "metadata": {},
   "outputs": [],
   "source": [
    "from api_methods import *\n",
    "\n",
    "ENV = \"dev\" # dev or prod - change this to prod when deploying\n",
    "BASE_URL = \"http://localhost:3000\"\n",
    "API_ENDPOINT = f\"{BASE_URL}/api\"\n",
    "CMS_API_ENDPOINT = f\"{BASE_URL}/cms/api\"\n",
    "\n",
    "if ENV != \"dev\":\n",
    "    BASE_URL = \"https://remote.base.url\"\n",
    "    API_ENDPOINT = f\"{BASE_URL}/api\"\n"
   ]
  },
  {
   "cell_type": "markdown",
   "metadata": {},
   "source": [
    "# `/healthcheck`"
   ]
  },
  {
   "cell_type": "code",
   "execution_count": null,
   "metadata": {},
   "outputs": [],
   "source": [
    "get_data(f\"{API_ENDPOINT}/healthcheck\")"
   ]
  },
  {
   "cell_type": "markdown",
   "metadata": {},
   "source": [
    "# `/events`"
   ]
  },
  {
   "cell_type": "code",
   "execution_count": null,
   "metadata": {},
   "outputs": [],
   "source": [
    "# GET root\n",
    "get_data(f\"{API_ENDPOINT}/events\")  # Get all posts"
   ]
  },
  {
   "cell_type": "code",
   "execution_count": null,
   "metadata": {},
   "outputs": [],
   "source": [
    "get_data(f\"{CMS_API_ENDPOINT}/events?pagination[pageSize]=3&sort=name:asc\") "
   ]
  },
  {
   "cell_type": "code",
   "execution_count": null,
   "metadata": {},
   "outputs": [],
   "source": [
    "get_data(f\"{CMS_API_ENDPOINT}/events?populate=image&limit=3\")"
   ]
  },
  {
   "cell_type": "markdown",
   "metadata": {},
   "source": [
    "# `/events/:slug`"
   ]
  },
  {
   "cell_type": "code",
   "execution_count": null,
   "metadata": {},
   "outputs": [],
   "source": [
    "response = get_data(f\"{CMS_API_ENDPOINT}/events?filters[slug][$eq]=jam-concert-live\")  # Get post with id 1\n",
    "doc_id = response['data'][0]['documentId']\n",
    "response"
   ]
  },
  {
   "cell_type": "code",
   "execution_count": null,
   "metadata": {},
   "outputs": [],
   "source": [
    "get_data(f\"{CMS_API_ENDPOINT}/events/{doc_id}\")  # Get post with id 1"
   ]
  }
 ],
 "metadata": {
  "kernelspec": {
   "display_name": ".venv",
   "language": "python",
   "name": "python3"
  },
  "language_info": {
   "codemirror_mode": {
    "name": "ipython",
    "version": 3
   },
   "file_extension": ".py",
   "mimetype": "text/x-python",
   "name": "python",
   "nbconvert_exporter": "python",
   "pygments_lexer": "ipython3",
   "version": "3.12.9"
  }
 },
 "nbformat": 4,
 "nbformat_minor": 2
}
