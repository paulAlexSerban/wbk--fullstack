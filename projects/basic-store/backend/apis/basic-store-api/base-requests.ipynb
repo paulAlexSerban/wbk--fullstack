{
 "cells": [
  {
   "cell_type": "code",
   "execution_count": 111,
   "metadata": {},
   "outputs": [],
   "source": [
    "import requests\n",
    "import json\n",
    "from IPython.display import display, JSON, Markdown\n",
    "\n",
    "BASE_URL = \"http://localhost:5000\"\n",
    "API_ENDPOINT = f\"{BASE_URL}\"\n",
    "\n",
    "def get_data(URL):\n",
    "    try:\n",
    "        response = requests.get(URL)\n",
    "        response.raise_for_status()  # Raise an error for bad responses (4xx and 5xx)\n",
    "        \n",
    "        # Print response details\n",
    "        print(f\"Status Code: {response.status_code}\")\n",
    "        print(\"Response JSON:\")\n",
    "        pretty_json = json.dumps(response.json(), indent=2)\n",
    "        # display(JSON(response.json()))\n",
    "        display(Markdown(f\"```json\\n{pretty_json}\\n```\"))\n",
    "        \n",
    "    except requests.exceptions.RequestException as error:\n",
    "        print(f\"API Request Failed: {error}\")\n",
    "        \n",
    "def create_data(URL, data):\n",
    "    try:\n",
    "        response = requests.post(URL, json=data)\n",
    "        response.raise_for_status()  # Raise an error for bad responses (4xx and 5xx)\n",
    "        \n",
    "        # Print response details\n",
    "        print(f\"Status Code: {response.status_code}\")\n",
    "        print(\"Response JSON:\")\n",
    "        pretty_json = json.dumps(response.json(), indent=2)\n",
    "        display(JSON(response.json()))\n",
    "        display(Markdown(f\"```json\\n{pretty_json}\\n```\"))\n",
    "        \n",
    "    except requests.exceptions.RequestException as error:\n",
    "        print(f\"API Request Failed: {error}\")"
   ]
  },
  {
   "cell_type": "markdown",
   "metadata": {},
   "source": [
    "### `/stores`"
   ]
  },
  {
   "cell_type": "code",
   "execution_count": 112,
   "metadata": {},
   "outputs": [
    {
     "name": "stdout",
     "output_type": "stream",
     "text": [
      "Status Code: 200\n",
      "Response JSON:\n"
     ]
    },
    {
     "data": {
      "text/markdown": [
       "```json\n",
       "{\n",
       "  \"GET /\": \"Retrieve available routes\",\n",
       "  \"GET /stores\": \"Retrieve all stores\"\n",
       "}\n",
       "```"
      ],
      "text/plain": [
       "<IPython.core.display.Markdown object>"
      ]
     },
     "metadata": {},
     "output_type": "display_data"
    }
   ],
   "source": [
    "# GET root\n",
    "get_data(f\"{BASE_URL}\")  # Get all posts"
   ]
  },
  {
   "cell_type": "code",
   "execution_count": 113,
   "metadata": {},
   "outputs": [
    {
     "name": "stdout",
     "output_type": "stream",
     "text": [
      "Status Code: 200\n",
      "Response JSON:\n"
     ]
    },
    {
     "data": {
      "text/markdown": [
       "```json\n",
       "{\n",
       "  \"stores\": [\n",
       "    {\n",
       "      \"id\": 1,\n",
       "      \"items\": [\n",
       "        {\n",
       "          \"id\": 1,\n",
       "          \"name\": \"My Item\",\n",
       "          \"price\": 15.99\n",
       "        },\n",
       "        {\n",
       "          \"id\": 2,\n",
       "          \"name\": \"My Item 2\",\n",
       "          \"price\": 10.99\n",
       "        },\n",
       "        {\n",
       "          \"id\": 3,\n",
       "          \"name\": \"My Item 3\",\n",
       "          \"price\": 20.99\n",
       "        },\n",
       "        {\n",
       "          \"id\": 4,\n",
       "          \"name\": \"My Item 4\",\n",
       "          \"price\": 5.99\n",
       "        },\n",
       "        {\n",
       "          \"id\": 5,\n",
       "          \"name\": \"My Item 5\",\n",
       "          \"price\": 25.99\n",
       "        },\n",
       "        {\n",
       "          \"id\": 6,\n",
       "          \"name\": \"My Item 6\",\n",
       "          \"price\": 30.99\n",
       "        },\n",
       "        {\n",
       "          \"id\": 7,\n",
       "          \"name\": \"My Item 7\",\n",
       "          \"price\": 35.99\n",
       "        }\n",
       "      ],\n",
       "      \"name\": \"My Store\"\n",
       "    }\n",
       "  ]\n",
       "}\n",
       "```"
      ],
      "text/plain": [
       "<IPython.core.display.Markdown object>"
      ]
     },
     "metadata": {},
     "output_type": "display_data"
    }
   ],
   "source": [
    "# GET all store data\n",
    "get_data(f\"{BASE_URL}/stores\")  # Get all stores"
   ]
  },
  {
   "cell_type": "markdown",
   "metadata": {},
   "source": [
    "### `/store`"
   ]
  },
  {
   "cell_type": "code",
   "execution_count": 118,
   "metadata": {},
   "outputs": [
    {
     "name": "stdout",
     "output_type": "stream",
     "text": [
      "API Request Failed: 404 Client Error: NOT FOUND for url: http://localhost:5000/stores/1\n"
     ]
    }
   ],
   "source": [
    "# GET store by id\n",
    "get_data(f\"{BASE_URL}/stores/1\")  #"
   ]
  },
  {
   "cell_type": "code",
   "execution_count": 115,
   "metadata": {},
   "outputs": [
    {
     "name": "stdout",
     "output_type": "stream",
     "text": [
      "Status Code: 201\n",
      "Response JSON:\n"
     ]
    },
    {
     "data": {
      "application/json": {
       "id": 2,
       "items": [],
       "name": "Store 1"
      },
      "text/plain": [
       "<IPython.core.display.JSON object>"
      ]
     },
     "metadata": {
      "application/json": {
       "expanded": false,
       "root": "root"
      }
     },
     "output_type": "display_data"
    },
    {
     "data": {
      "text/markdown": [
       "```json\n",
       "{\n",
       "  \"id\": 2,\n",
       "  \"items\": [],\n",
       "  \"name\": \"Store 1\"\n",
       "}\n",
       "```"
      ],
      "text/plain": [
       "<IPython.core.display.Markdown object>"
      ]
     },
     "metadata": {},
     "output_type": "display_data"
    }
   ],
   "source": [
    "# POST create a new store\n",
    "new_store = {\n",
    "    \"name\": \"Store 1\",\n",
    "    \"location\": \"Location 1\"\n",
    "}\n",
    "create_data(f\"{BASE_URL}/store\", new_store)  # Create a store"
   ]
  },
  {
   "cell_type": "code",
   "execution_count": 116,
   "metadata": {},
   "outputs": [
    {
     "name": "stdout",
     "output_type": "stream",
     "text": [
      "Status Code: 201\n",
      "Response JSON:\n"
     ]
    },
    {
     "data": {
      "application/json": {
       "id": 8,
       "name": "Item 1",
       "price": 100
      },
      "text/plain": [
       "<IPython.core.display.JSON object>"
      ]
     },
     "metadata": {
      "application/json": {
       "expanded": false,
       "root": "root"
      }
     },
     "output_type": "display_data"
    },
    {
     "data": {
      "text/markdown": [
       "```json\n",
       "{\n",
       "  \"id\": 8,\n",
       "  \"name\": \"Item 1\",\n",
       "  \"price\": 100\n",
       "}\n",
       "```"
      ],
      "text/plain": [
       "<IPython.core.display.Markdown object>"
      ]
     },
     "metadata": {},
     "output_type": "display_data"
    }
   ],
   "source": [
    "# POST create a new item in store 1\n",
    "new_item = {\n",
    "    \"name\": \"Item 1\",\n",
    "    \"price\": 100,\n",
    "    \"id\": 1\n",
    "}\n",
    "create_data(f\"{BASE_URL}/store/1/item\", new_item)  # Create an item"
   ]
  },
  {
   "cell_type": "code",
   "execution_count": 117,
   "metadata": {},
   "outputs": [
    {
     "name": "stdout",
     "output_type": "stream",
     "text": [
      "API Request Failed: 404 Client Error: NOT FOUND for url: http://localhost:5000/store/1/items\n"
     ]
    }
   ],
   "source": [
    "# GET items in store 1\n",
    "get_data(f\"{BASE_URL}/store/1/items\")  # Get all items in"
   ]
  }
 ],
 "metadata": {
  "kernelspec": {
   "display_name": ".venv",
   "language": "python",
   "name": "python3"
  },
  "language_info": {
   "codemirror_mode": {
    "name": "ipython",
    "version": 3
   },
   "file_extension": ".py",
   "mimetype": "text/x-python",
   "name": "python",
   "nbconvert_exporter": "python",
   "pygments_lexer": "ipython3",
   "version": "3.13.2"
  }
 },
 "nbformat": 4,
 "nbformat_minor": 2
}
