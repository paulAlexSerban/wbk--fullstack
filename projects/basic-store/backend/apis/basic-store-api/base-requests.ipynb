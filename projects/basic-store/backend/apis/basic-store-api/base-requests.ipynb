{
 "cells": [
  {
   "cell_type": "code",
   "execution_count": 1,
   "metadata": {},
   "outputs": [],
   "source": [
    "import requests\n",
    "\n",
    "BASE_URL = \"http://localhost:5000\"\n",
    "API_ENDPOINT = f\"{BASE_URL}\""
   ]
  },
  {
   "cell_type": "markdown",
   "metadata": {},
   "source": [
    "# GET `/` - retrieve all data"
   ]
  },
  {
   "cell_type": "code",
   "execution_count": 3,
   "metadata": {},
   "outputs": [
    {
     "name": "stdout",
     "output_type": "stream",
     "text": [
      "Status Code: 200\n",
      "Response JSON:\n",
      "{'GET /': 'Retrieve available routes', 'GET /stores': 'Retrieve all stores'}\n"
     ]
    }
   ],
   "source": [
    "def get_post_by_id(post_id):\n",
    "    try:\n",
    "        response = requests.get(f\"{BASE_URL}\")\n",
    "        response.raise_for_status()  # Raise an error for bad responses (4xx and 5xx)\n",
    "        \n",
    "        # Print response details\n",
    "        print(f\"Status Code: {response.status_code}\")\n",
    "        print(\"Response JSON:\")\n",
    "        print(response.json())\n",
    "        \n",
    "    except requests.exceptions.RequestException as error:\n",
    "        print(f\"API Request Failed: {error}\")\n",
    "\n",
    "get_post_by_id(1)  # Get post with ID 1"
   ]
  },
  {
   "cell_type": "markdown",
   "metadata": {},
   "source": [
    "# `/stores`"
   ]
  },
  {
   "cell_type": "code",
   "execution_count": 5,
   "metadata": {},
   "outputs": [
    {
     "name": "stdout",
     "output_type": "stream",
     "text": [
      "Status Code: 200\n",
      "Response JSON:\n",
      "{'stores': [{'items': [{'name': 'My Item', 'price': 15.99}], 'name': 'My Store'}]}\n"
     ]
    }
   ],
   "source": [
    "def get_all_stores():\n",
    "    try:\n",
    "        response = requests.get(f\"{BASE_URL}/stores\")\n",
    "        response.raise_for_status()  # Raise an error for bad responses (4xx and 5xx)\n",
    "        \n",
    "        # Print response details\n",
    "        print(f\"Status Code: {response.status_code}\")\n",
    "        print(\"Response JSON:\")\n",
    "        print(response.json())\n",
    "        \n",
    "    except requests.exceptions.RequestException as error:\n",
    "        print(f\"API Request Failed: {error}\")\n",
    "        \n",
    "get_all_stores()  # Get all stores"
   ]
  }
 ],
 "metadata": {
  "kernelspec": {
   "display_name": ".venv",
   "language": "python",
   "name": "python3"
  },
  "language_info": {
   "codemirror_mode": {
    "name": "ipython",
    "version": 3
   },
   "file_extension": ".py",
   "mimetype": "text/x-python",
   "name": "python",
   "nbconvert_exporter": "python",
   "pygments_lexer": "ipython3",
   "version": "3.13.2"
  }
 },
 "nbformat": 4,
 "nbformat_minor": 2
}
