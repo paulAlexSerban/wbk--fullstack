{
 "cells": [
  {
   "cell_type": "code",
   "execution_count": null,
   "metadata": {},
   "outputs": [],
   "source": [
    "import requests\n",
    "import random\n",
    "\n",
    "BASE_URL = \"http://localhost:5000\"\n",
    "API_ENDPOINT = f\"{BASE_URL}\"\n",
    "\n",
    "store_names=[\"Gryffindor Store\", \"Hufflepuff Store\", \"Ravenclaw Store\", \"Slytherin Store\", \"Hogwarts Store\", \"Diagon Alley Store\", \"Knockturn Alley Store\", \"Hogsmeade Store\", \"Godric's Hollow Store\", \"Azkaban Store\", \"Ministry of Magic Store\", \"Gringotts Store\", \"Ollivanders Store\", \"Weasley's Wizard Wheezes Store\", \"Borgin and Burkes Store\", \"Flourish and Blotts Store\", \"Madam Malkin's Robes for All Occasions Store\", \"Quality Quidditch Supplies Store\", \"Slug and Jiggers Apothecary Store\", \"The Leaky Cauldron Store\", \"The Three Broomsticks Store\", \"The Hog's Head Store\", \"The Burrow Store\", \"The Shrieking Shack Store\", \"The Room of Requirement Store\", \"The Forbidden Forest Store\", \"The Great Hall Store\", \"The Astronomy Tower Store\", \"The Chamber of Secrets Store\", \"The Room of Hidden Things Store\", \"The Room of Runes Store\", \"The Room of Requirement Store\", \"The Room of Rewards Store\", \"The Room of Love Store\", \"The Room of Death Store\"]\n",
    "item_names = [\"Wand\", \"Broomstick\", \"Cauldron\", \"Robes\", \"Quidditch Supplies\", \"Potion Ingredients\", \"Books\", \"Butterbeer\", \"Pumpkin Juice\", \"Bertie Bott's Every Flavour Beans\", \"Chocolate Frogs\", \"Exploding Bonbons\", \"Fanged Frisbees\", \"Fever Fudge\", \"Fizzing Whizzbees\", \"Jelly Slugs\"]"
   ]
  },
  {
   "cell_type": "code",
   "execution_count": null,
   "metadata": {},
   "outputs": [],
   "source": [
    "# GET root\n",
    "requests.get(f\"{BASE_URL}\").json()  # Get all posts"
   ]
  },
  {
   "cell_type": "code",
   "execution_count": null,
   "metadata": {},
   "outputs": [],
   "source": [
    "# GET all store data\n",
    "requests.get(f\"{BASE_URL}/store\").json()  # Get all stores"
   ]
  },
  {
   "cell_type": "code",
   "execution_count": null,
   "metadata": {},
   "outputs": [],
   "source": [
    "STORE_NAME = store_names[random.randint(0, len(store_names) - 1)]\n",
    "# POST create a new store\n",
    "new_store = {\n",
    "    \"name\": STORE_NAME,\n",
    "}\n",
    "store_data = requests.post(f\"{BASE_URL}/store\", new_store).json()  # Create a store\n",
    "\n",
    "STORE_ID = store_data[\"id\"]\n",
    "print(f\"Store ID: {STORE_ID}\")"
   ]
  },
  {
   "cell_type": "code",
   "execution_count": null,
   "metadata": {},
   "outputs": [],
   "source": [
    "# GET newly created store by id\n",
    "requests.get(f\"{BASE_URL}/store/{STORE_ID}\")"
   ]
  },
  {
   "cell_type": "code",
   "execution_count": null,
   "metadata": {},
   "outputs": [],
   "source": [
    "# PUT update store by id\n",
    "update_store = {\n",
    "    \"name\": f\"{STORE_NAME} Updated\",\n",
    "}\n",
    "requests.put(f\"{BASE_URL}/store/{STORE_ID}\", update_store).json()"
   ]
  },
  {
   "cell_type": "code",
   "execution_count": null,
   "metadata": {},
   "outputs": [],
   "source": [
    "ITEM_NAME = item_names[random.randint(0, len(item_names) - 1)]\n",
    "# POST create a new item in store 1\n",
    "new_item = {\n",
    "    \"name\": ITEM_NAME,\n",
    "    \"price\": 100,\n",
    "    \"store_id\": STORE_ID\n",
    "}\n",
    "ITEM_DATA = requests.post(f\"{BASE_URL}/item\", new_item).json()  # Create an item\n",
    "ITEM_ID = ITEM_DATA[\"id\"]\n",
    "print(f\"Item ID: {ITEM_ID}\")"
   ]
  },
  {
   "cell_type": "code",
   "execution_count": null,
   "metadata": {},
   "outputs": [],
   "source": [
    "# GET newly created item\n",
    "requests.get(f\"{BASE_URL}/item/{ITEM_ID}\")  # Get all items in"
   ]
  },
  {
   "cell_type": "code",
   "execution_count": null,
   "metadata": {},
   "outputs": [],
   "source": [
    "# PUT update item\n",
    "update_item = {\n",
    "    \"name\": ITEM_NAME,\n",
    "    \"price\": 200\n",
    "}\n",
    "\n",
    "requests.put(f\"{BASE_URL}/item/{ITEM_ID}\", update_item).json()  # Update an item"
   ]
  },
  {
   "cell_type": "code",
   "execution_count": null,
   "metadata": {},
   "outputs": [],
   "source": [
    "# GET all items\n",
    "requests.get(f\"{BASE_URL}/item\")  # Get all items"
   ]
  },
  {
   "cell_type": "code",
   "execution_count": null,
   "metadata": {},
   "outputs": [],
   "source": [
    "ITEM_NAME = item_names[random.randint(0, len(item_names) - 1)]\n",
    "# POST create a new item in store 1\n",
    "new_item = {\n",
    "    \"name\": ITEM_NAME,\n",
    "    \"price\": 100,\n",
    "    \"store_id\": STORE_ID\n",
    "}\n",
    "ITEM_DATA = requests.post(f\"{BASE_URL}/item\", new_item).json()  # Create an item\n",
    "ITEM_ID = ITEM_DATA[\"id\"]\n",
    "print(f\"Item ID: {ITEM_ID}\")"
   ]
  },
  {
   "cell_type": "code",
   "execution_count": null,
   "metadata": {},
   "outputs": [],
   "source": [
    "# DELETE item\n",
    "requests.delete(f\"{BASE_URL}/item/{ITEM_ID}\").json()  # Delete an item"
   ]
  },
  {
   "cell_type": "code",
   "execution_count": null,
   "metadata": {},
   "outputs": [],
   "source": [
    "# GET all items\n",
    "requests.get(f\"{BASE_URL}/item\")  # Get all items"
   ]
  },
  {
   "cell_type": "code",
   "execution_count": null,
   "metadata": {},
   "outputs": [],
   "source": [
    "# POST create new store\n",
    "STORE_NAME = store_names[random.randint(0, len(store_names) - 1)]\n",
    "# POST create a new store\n",
    "new_store = {\n",
    "    \"name\": STORE_NAME,\n",
    "}\n",
    "store_data = requests.post(f\"{BASE_URL}/store\", new_store).json()  # Create a store\n",
    "\n",
    "STORE_ID = store_data[\"id\"]\n",
    "print(f\"Store ID: {STORE_ID}\")"
   ]
  },
  {
   "cell_type": "code",
   "execution_count": null,
   "metadata": {},
   "outputs": [],
   "source": [
    "# DELETE store\n",
    "requests.delete(f\"{BASE_URL}/store/{STORE_ID}\").json()  # Delete a store"
   ]
  }
 ],
 "metadata": {
  "kernelspec": {
   "display_name": ".venv",
   "language": "python",
   "name": "python3"
  },
  "language_info": {
   "codemirror_mode": {
    "name": "ipython",
    "version": 3
   },
   "file_extension": ".py",
   "mimetype": "text/x-python",
   "name": "python",
   "nbconvert_exporter": "python",
   "pygments_lexer": "ipython3",
   "version": "3.12.9"
  }
 },
 "nbformat": 4,
 "nbformat_minor": 2
}
