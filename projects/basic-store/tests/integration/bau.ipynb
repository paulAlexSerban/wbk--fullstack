{
 "cells": [
  {
   "cell_type": "code",
   "execution_count": 1,
   "metadata": {},
   "outputs": [],
   "source": [
    "from api_methods import *\n",
    "import random\n",
    "\n",
    "BASE_URL = \"http://localhost:5000\"\n",
    "API_ENDPOINT = f\"{BASE_URL}\"\n",
    "\n",
    "store_names=[\"Gryffindor Store\", \"Hufflepuff Store\", \"Ravenclaw Store\", \"Slytherin Store\", \"Hogwarts Store\", \"Diagon Alley Store\", \"Knockturn Alley Store\", \"Hogsmeade Store\", \"Godric's Hollow Store\", \"Azkaban Store\", \"Ministry of Magic Store\", \"Gringotts Store\", \"Ollivanders Store\", \"Weasley's Wizard Wheezes Store\", \"Borgin and Burkes Store\", \"Flourish and Blotts Store\", \"Madam Malkin's Robes for All Occasions Store\", \"Quality Quidditch Supplies Store\", \"Slug and Jiggers Apothecary Store\", \"The Leaky Cauldron Store\", \"The Three Broomsticks Store\", \"The Hog's Head Store\", \"The Burrow Store\", \"The Shrieking Shack Store\", \"The Room of Requirement Store\", \"The Forbidden Forest Store\", \"The Great Hall Store\", \"The Astronomy Tower Store\", \"The Chamber of Secrets Store\", \"The Room of Hidden Things Store\", \"The Room of Runes Store\", \"The Room of Requirement Store\", \"The Room of Rewards Store\", \"The Room of Love Store\", \"The Room of Death Store\"]\n",
    "item_names = [\"Wand\", \"Broomstick\", \"Cauldron\", \"Robes\", \"Quidditch Supplies\", \"Potion Ingredients\", \"Books\", \"Butterbeer\", \"Pumpkin Juice\", \"Bertie Bott's Every Flavour Beans\", \"Chocolate Frogs\", \"Exploding Bonbons\", \"Fanged Frisbees\", \"Fever Fudge\", \"Fizzing Whizzbees\", \"Jelly Slugs\"]"
   ]
  },
  {
   "cell_type": "code",
   "execution_count": 2,
   "metadata": {},
   "outputs": [
    {
     "name": "stdout",
     "output_type": "stream",
     "text": [
      "Status Code: 200\n",
      "Response JSON:\n"
     ]
    },
    {
     "data": {
      "text/plain": [
       "{'GET /': 'Retrieve available routes',\n",
       " 'GET /item': 'Retrieve all items',\n",
       " 'GET /item/<string:item_id>': 'Retrieve item by ID',\n",
       " 'GET /store/<string:store_id>': 'Retrieve store by ID',\n",
       " 'GET /stores': 'Retrieve all stores',\n",
       " 'POST /item': 'Create a new item',\n",
       " 'POST /store': 'Create a new store'}"
      ]
     },
     "execution_count": 2,
     "metadata": {},
     "output_type": "execute_result"
    }
   ],
   "source": [
    "# GET root\n",
    "get_data(f\"{BASE_URL}\")  # Get all posts"
   ]
  },
  {
   "cell_type": "code",
   "execution_count": 3,
   "metadata": {},
   "outputs": [
    {
     "name": "stdout",
     "output_type": "stream",
     "text": [
      "Status Code: 200\n",
      "Response JSON:\n"
     ]
    },
    {
     "data": {
      "text/plain": [
       "{'stores': {'3a2bf687e2474c8ba6f2715f4db48c93': {'id': '3a2bf687e2474c8ba6f2715f4db48c93',\n",
       "   'name': 'The Room of Hidden Things Store Updated'}}}"
      ]
     },
     "execution_count": 3,
     "metadata": {},
     "output_type": "execute_result"
    }
   ],
   "source": [
    "# GET all store data\n",
    "get_data(f\"{BASE_URL}/store\")  # Get all stores"
   ]
  },
  {
   "cell_type": "code",
   "execution_count": 4,
   "metadata": {},
   "outputs": [
    {
     "name": "stdout",
     "output_type": "stream",
     "text": [
      "Status Code: 201\n",
      "Response JSON:\n",
      "Store ID: a5eb25dc1a9248f8927a7e0034bc8402\n"
     ]
    }
   ],
   "source": [
    "STORE_NAME = store_names[random.randint(0, len(store_names) - 1)]\n",
    "# POST create a new store\n",
    "new_store = {\n",
    "    \"name\": STORE_NAME,\n",
    "}\n",
    "store_data = create_data(f\"{BASE_URL}/store\", new_store)  # Create a store\n",
    "\n",
    "STORE_ID = store_data[\"id\"]\n",
    "print(f\"Store ID: {STORE_ID}\")"
   ]
  },
  {
   "cell_type": "code",
   "execution_count": 5,
   "metadata": {},
   "outputs": [
    {
     "name": "stdout",
     "output_type": "stream",
     "text": [
      "Status Code: 200\n",
      "Response JSON:\n"
     ]
    },
    {
     "data": {
      "text/plain": [
       "{'id': 'a5eb25dc1a9248f8927a7e0034bc8402',\n",
       " 'name': \"Weasley's Wizard Wheezes Store\"}"
      ]
     },
     "execution_count": 5,
     "metadata": {},
     "output_type": "execute_result"
    }
   ],
   "source": [
    "# GET newly created store by id\n",
    "get_data(f\"{BASE_URL}/store/{STORE_ID}\")"
   ]
  },
  {
   "cell_type": "code",
   "execution_count": 6,
   "metadata": {},
   "outputs": [
    {
     "name": "stdout",
     "output_type": "stream",
     "text": [
      "Status Code: 200\n",
      "Response JSON:\n"
     ]
    },
    {
     "data": {
      "text/plain": [
       "{'id': 'a5eb25dc1a9248f8927a7e0034bc8402',\n",
       " 'name': \"Weasley's Wizard Wheezes Store Updated\"}"
      ]
     },
     "execution_count": 6,
     "metadata": {},
     "output_type": "execute_result"
    }
   ],
   "source": [
    "# PUT update store by id\n",
    "update_store = {\n",
    "    \"name\": f\"{STORE_NAME} Updated\",\n",
    "}\n",
    "update_data(f\"{BASE_URL}/store/{STORE_ID}\", update_store)"
   ]
  },
  {
   "cell_type": "code",
   "execution_count": 7,
   "metadata": {},
   "outputs": [
    {
     "name": "stdout",
     "output_type": "stream",
     "text": [
      "Status Code: 201\n",
      "Response JSON:\n",
      "Item ID: 8e984fb2d6e246fead5c6b75c4bf7802\n"
     ]
    }
   ],
   "source": [
    "ITEM_NAME = item_names[random.randint(0, len(item_names) - 1)]\n",
    "# POST create a new item in store 1\n",
    "new_item = {\n",
    "    \"name\": ITEM_NAME,\n",
    "    \"price\": 100,\n",
    "    \"store_id\": STORE_ID\n",
    "}\n",
    "ITEM_DATA = create_data(f\"{BASE_URL}/item\", new_item)  # Create an item\n",
    "ITEM_ID = ITEM_DATA[\"id\"]\n",
    "print(f\"Item ID: {ITEM_ID}\")"
   ]
  },
  {
   "cell_type": "code",
   "execution_count": 8,
   "metadata": {},
   "outputs": [
    {
     "name": "stdout",
     "output_type": "stream",
     "text": [
      "Status Code: 200\n",
      "Response JSON:\n"
     ]
    },
    {
     "data": {
      "text/plain": [
       "{'id': '8e984fb2d6e246fead5c6b75c4bf7802',\n",
       " 'name': 'Fizzing Whizzbees',\n",
       " 'price': 100,\n",
       " 'store_id': 'a5eb25dc1a9248f8927a7e0034bc8402'}"
      ]
     },
     "execution_count": 8,
     "metadata": {},
     "output_type": "execute_result"
    }
   ],
   "source": [
    "# GET newly created item\n",
    "get_data(f\"{BASE_URL}/item/{ITEM_ID}\")  # Get all items in"
   ]
  },
  {
   "cell_type": "code",
   "execution_count": 9,
   "metadata": {},
   "outputs": [
    {
     "name": "stdout",
     "output_type": "stream",
     "text": [
      "Status Code: 200\n",
      "Response JSON:\n"
     ]
    },
    {
     "data": {
      "text/plain": [
       "{'id': '8e984fb2d6e246fead5c6b75c4bf7802',\n",
       " 'name': 'Fizzing Whizzbees',\n",
       " 'price': 200,\n",
       " 'store_id': 'a5eb25dc1a9248f8927a7e0034bc8402'}"
      ]
     },
     "execution_count": 9,
     "metadata": {},
     "output_type": "execute_result"
    }
   ],
   "source": [
    "# PUT update item\n",
    "update_item = {\n",
    "    \"name\": ITEM_NAME,\n",
    "    \"price\": 200\n",
    "}\n",
    "\n",
    "update_data(f\"{BASE_URL}/item/{ITEM_ID}\", update_item)  # Update an item"
   ]
  },
  {
   "cell_type": "code",
   "execution_count": 10,
   "metadata": {},
   "outputs": [
    {
     "name": "stdout",
     "output_type": "stream",
     "text": [
      "Status Code: 200\n",
      "Response JSON:\n"
     ]
    },
    {
     "data": {
      "text/plain": [
       "{'items': [{'id': '8ced53cce2eb45599c884eb7beddf0ad',\n",
       "   'name': \"Bertie Bott's Every Flavour Beans\",\n",
       "   'price': 200,\n",
       "   'store_id': '3a2bf687e2474c8ba6f2715f4db48c93'},\n",
       "  {'id': '8e984fb2d6e246fead5c6b75c4bf7802',\n",
       "   'name': 'Fizzing Whizzbees',\n",
       "   'price': 200,\n",
       "   'store_id': 'a5eb25dc1a9248f8927a7e0034bc8402'}]}"
      ]
     },
     "execution_count": 10,
     "metadata": {},
     "output_type": "execute_result"
    }
   ],
   "source": [
    "# GET all items\n",
    "get_data(f\"{BASE_URL}/item\")  # Get all items"
   ]
  },
  {
   "cell_type": "code",
   "execution_count": 11,
   "metadata": {},
   "outputs": [
    {
     "name": "stdout",
     "output_type": "stream",
     "text": [
      "Status Code: 201\n",
      "Response JSON:\n",
      "Item ID: 444652005b33406cb35b82cb4e14f510\n"
     ]
    }
   ],
   "source": [
    "ITEM_NAME = item_names[random.randint(0, len(item_names) - 1)]\n",
    "# POST create a new item in store 1\n",
    "new_item = {\n",
    "    \"name\": ITEM_NAME,\n",
    "    \"price\": 100,\n",
    "    \"store_id\": STORE_ID\n",
    "}\n",
    "ITEM_DATA = create_data(f\"{BASE_URL}/item\", new_item)  # Create an item\n",
    "ITEM_ID = ITEM_DATA[\"id\"]\n",
    "print(f\"Item ID: {ITEM_ID}\")"
   ]
  },
  {
   "cell_type": "code",
   "execution_count": 12,
   "metadata": {},
   "outputs": [
    {
     "name": "stdout",
     "output_type": "stream",
     "text": [
      "Status Code: 200\n",
      "Response JSON:\n"
     ]
    },
    {
     "data": {
      "text/plain": [
       "{'message': 'Item deleted.'}"
      ]
     },
     "execution_count": 12,
     "metadata": {},
     "output_type": "execute_result"
    }
   ],
   "source": [
    "# DELETE item\n",
    "delete_data(f\"{BASE_URL}/item/{ITEM_ID}\")  # Delete an item"
   ]
  },
  {
   "cell_type": "code",
   "execution_count": 13,
   "metadata": {},
   "outputs": [
    {
     "name": "stdout",
     "output_type": "stream",
     "text": [
      "Status Code: 200\n",
      "Response JSON:\n"
     ]
    },
    {
     "data": {
      "text/plain": [
       "{'items': [{'id': '8ced53cce2eb45599c884eb7beddf0ad',\n",
       "   'name': \"Bertie Bott's Every Flavour Beans\",\n",
       "   'price': 200,\n",
       "   'store_id': '3a2bf687e2474c8ba6f2715f4db48c93'},\n",
       "  {'id': '8e984fb2d6e246fead5c6b75c4bf7802',\n",
       "   'name': 'Fizzing Whizzbees',\n",
       "   'price': 200,\n",
       "   'store_id': 'a5eb25dc1a9248f8927a7e0034bc8402'}]}"
      ]
     },
     "execution_count": 13,
     "metadata": {},
     "output_type": "execute_result"
    }
   ],
   "source": [
    "# GET all items\n",
    "get_data(f\"{BASE_URL}/item\")  # Get all items"
   ]
  },
  {
   "cell_type": "code",
   "execution_count": 14,
   "metadata": {},
   "outputs": [
    {
     "name": "stdout",
     "output_type": "stream",
     "text": [
      "Status Code: 201\n",
      "Response JSON:\n",
      "Store ID: 45647cff0cec4627ac3bd5bf78a6a1e2\n"
     ]
    }
   ],
   "source": [
    "# POST create new store\n",
    "STORE_NAME = store_names[random.randint(0, len(store_names) - 1)]\n",
    "# POST create a new store\n",
    "new_store = {\n",
    "    \"name\": STORE_NAME,\n",
    "}\n",
    "store_data = create_data(f\"{BASE_URL}/store\", new_store)  # Create a store\n",
    "\n",
    "STORE_ID = store_data[\"id\"]\n",
    "print(f\"Store ID: {STORE_ID}\")"
   ]
  },
  {
   "cell_type": "code",
   "execution_count": 15,
   "metadata": {},
   "outputs": [
    {
     "name": "stdout",
     "output_type": "stream",
     "text": [
      "Status Code: 200\n",
      "Response JSON:\n"
     ]
    },
    {
     "data": {
      "text/plain": [
       "{'message': 'Store deleted.'}"
      ]
     },
     "execution_count": 15,
     "metadata": {},
     "output_type": "execute_result"
    }
   ],
   "source": [
    "# DELETE store\n",
    "delete_data(f\"{BASE_URL}/store/{STORE_ID}\")  # Delete a store"
   ]
  }
 ],
 "metadata": {
  "kernelspec": {
   "display_name": ".venv",
   "language": "python",
   "name": "python3"
  },
  "language_info": {
   "codemirror_mode": {
    "name": "ipython",
    "version": 3
   },
   "file_extension": ".py",
   "mimetype": "text/x-python",
   "name": "python",
   "nbconvert_exporter": "python",
   "pygments_lexer": "ipython3",
   "version": "3.13.2"
  }
 },
 "nbformat": 4,
 "nbformat_minor": 2
}
