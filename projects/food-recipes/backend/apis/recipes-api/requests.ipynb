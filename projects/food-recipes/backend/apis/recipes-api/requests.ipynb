{
 "cells": [
  {
   "cell_type": "code",
   "execution_count": 9,
   "metadata": {},
   "outputs": [],
   "source": [
    "import requests\n",
    "\n",
    "BASE_URL = \"https://jsonplaceholder.typicode.com\"\n",
    "API_ENDPOINT = \"https://jsonplaceholder.typicode.com/posts\""
   ]
  },
  {
   "cell_type": "code",
   "execution_count": 10,
   "metadata": {},
   "outputs": [
    {
     "name": "stdout",
     "output_type": "stream",
     "text": [
      "Status Code: 200\n",
      "Response JSON:\n",
      "{'userId': 1, 'id': 1, 'title': 'sunt aut facere repellat provident occaecati excepturi optio reprehenderit', 'body': 'quia et suscipit\\nsuscipit recusandae consequuntur expedita et cum\\nreprehenderit molestiae ut ut quas totam\\nnostrum rerum est autem sunt rem eveniet architecto'}\n"
     ]
    }
   ],
   "source": [
    "def get_post_by_id(post_id):\n",
    "    try:\n",
    "        response = requests.get(f\"{BASE_URL}/posts/{post_id}\")\n",
    "        response.raise_for_status()  # Raise an error for bad responses (4xx and 5xx)\n",
    "        \n",
    "        # Print response details\n",
    "        print(f\"Status Code: {response.status_code}\")\n",
    "        print(\"Response JSON:\")\n",
    "        print(response.json())  # Parse JSON response\n",
    "        \n",
    "    except requests.exceptions.RequestException as e:\n",
    "        print(f\"API Request Failed: {e}\")\n",
    "\n",
    "get_post_by_id(1)  # Get post with ID 1"
   ]
  },
  {
   "cell_type": "code",
   "execution_count": 11,
   "metadata": {},
   "outputs": [
    {
     "name": "stdout",
     "output_type": "stream",
     "text": [
      "Status Code: 201\n",
      "Response JSON:\n",
      "{'title': 'foo', 'body': 'bar', 'userId': 1, 'id': 101}\n"
     ]
    }
   ],
   "source": [
    "def create_new_post(payload):\n",
    "    try:\n",
    "        response = requests.post(f\"{BASE_URL}/posts\", json=payload)\n",
    "        response.raise_for_status()\n",
    "        \n",
    "        print(f\"Status Code: {response.status_code}\")\n",
    "        print(\"Response JSON:\")\n",
    "        print(response.json())\n",
    "        \n",
    "    except requests.exceptions.RequestException as e:\n",
    "        print(f\"API Request Failed: {e}\")\n",
    "\n",
    "payload = {\n",
    "    \"title\": \"foo\",\n",
    "    \"body\": \"bar\",\n",
    "    \"userId\": 1\n",
    "}\n",
    "\n",
    "create_new_post(payload)  # Create a new post with the payload data"
   ]
  }
 ],
 "metadata": {
  "kernelspec": {
   "display_name": ".venv",
   "language": "python",
   "name": "python3"
  },
  "language_info": {
   "codemirror_mode": {
    "name": "ipython",
    "version": 3
   },
   "file_extension": ".py",
   "mimetype": "text/x-python",
   "name": "python",
   "nbconvert_exporter": "python",
   "pygments_lexer": "ipython3",
   "version": "3.13.2"
  }
 },
 "nbformat": 4,
 "nbformat_minor": 2
}
